{
 "cells": [
  {
   "cell_type": "markdown",
   "id": "a0817c15",
   "metadata": {},
   "source": [
    "\n",
    "\n",
    "**Exercise 1: Arithmetic Operations**\n",
    "Q: Take two numbers as input and calculate their sum, difference, product, quotient, and remainder using arithmetic operators.\n",
    "A:\n",
    "\n",
    "\n",
    "**Exercise 2: Comparison Operators**\n",
    "Q: Take two numbers as input and determine whether they are equal, not equal, greater than, and less than each other using comparison operators.\n",
    "A:\n",
    "\n",
    "\n",
    "**Exercise 3: Logical Operators**\n",
    "Q: Take two boolean values as input and print the result of their AND, OR, and NOT operations using logical operators.\n",
    "A:\n",
    "\n",
    "\n",
    "**Exercise 4: Bitwise Operations**\n",
    "Q: Take two integer numbers as input and perform bitwise AND, OR, XOR, and NOT operations on them.\n",
    "A:\n",
    "\n",
    "\n",
    "**Exercise 5: Precedence of Operators**\n",
    "Q: Take three numbers as input and create an expression using addition, subtraction, multiplication, and division. Print the result considering operator precedence.\n",
    "A:\n",
    "\n",
    "\n"
   ]
  },
  {
   "cell_type": "code",
   "execution_count": 10,
   "id": "b60b9642",
   "metadata": {},
   "outputs": [
    {
     "name": "stdout",
     "output_type": "stream",
     "text": [
      "9\n",
      "-1\n",
      "20\n",
      "0.8\n",
      "4\n"
     ]
    }
   ],
   "source": [
    "\n",
    "a=4\n",
    "b=5\n",
    "print(a+b)\n",
    "print(a-b)\n",
    "print(a*b)\n",
    "print(a/b)\n",
    "print(a%b)"
   ]
  },
  {
   "cell_type": "code",
   "execution_count": 11,
   "id": "566fe8fc",
   "metadata": {},
   "outputs": [
    {
     "name": "stdout",
     "output_type": "stream",
     "text": [
      "False\n",
      "True\n",
      "False\n",
      "False\n",
      "True\n",
      "True\n"
     ]
    }
   ],
   "source": [
    "a=5\n",
    "b=10\n",
    "print(a==b)\n",
    "print(a!=b)\n",
    "print(a>b)\n",
    "print(a>=b)\n",
    "print(a<b)\n",
    "print(a<=b)"
   ]
  },
  {
   "cell_type": "code",
   "execution_count": 12,
   "id": "c34b2ab1",
   "metadata": {},
   "outputs": [
    {
     "name": "stdout",
     "output_type": "stream",
     "text": [
      "True\n",
      "True\n",
      "True\n"
     ]
    }
   ],
   "source": [
    "print((9>7)and(2<4))\n",
    "print((8==8)or(6!=6))\n",
    "print(not(3<=1))"
   ]
  },
  {
   "cell_type": "code",
   "execution_count": 13,
   "id": "c8e762c1",
   "metadata": {},
   "outputs": [
    {
     "name": "stdout",
     "output_type": "stream",
     "text": [
      "4\n",
      "5\n",
      "1\n",
      "-6\n"
     ]
    }
   ],
   "source": [
    "\n",
    "a=5\n",
    "b=4\n",
    "print(a&b)\n",
    "print(a|b)\n",
    "print(a^b)\n",
    "print(~a)\n"
   ]
  },
  {
   "cell_type": "code",
   "execution_count": null,
   "id": "ff058869",
   "metadata": {},
   "outputs": [],
   "source": []
  },
  {
   "cell_type": "markdown",
   "id": "2a395a25",
   "metadata": {},
   "source": []
  },
  {
   "cell_type": "markdown",
   "id": "f7cebeb5",
   "metadata": {},
   "source": [
    "\n",
    "\n",
    "**Exercise 6: Mixed Operators**\n",
    "Q: Take two numbers as input and calculate the result of the expression `(a + b) * (a - b) / (a ** b)` using arithmetic operators.\n",
    "\n",
    "\n",
    "**Exercise 7: Complex Comparison**\n",
    "Q: Take three numbers as input and determine if the first number is strictly between the second and third numbers (exclusive), using comparison operators.\n",
    "\n",
    "\n",
    "**Exercise 8: Convert Seconds**\n",
    "Q: Take the number of seconds as input and convert it into hours, minutes, and remaining seconds using arithmetic operators.\n",
    "\n",
    "\n",
    "**Exercise 9: Swap Variables**\n",
    "Q: Take two numbers as input and swap their values without using a temporary variable, using arithmetic operators.\n",
    "\n",
    "\n",
    "**Exercise 10: Investment Growth**\n",
    "Q: Take the principal amount, interest rate, and number of years as input. Calculate the final amount using the formula `A = P * (1 + r/n) ** (nt)`, where `n` is the number of times interest is compounded per year and `t` is the number of years.\n",
    "A:\n",
    "\n"
   ]
  },
  {
   "cell_type": "code",
   "execution_count": 9,
   "id": "d55ae31f",
   "metadata": {},
   "outputs": [
    {
     "name": "stdout",
     "output_type": "stream",
     "text": [
      "-0.625\n"
     ]
    }
   ],
   "source": [
    "a=2\n",
    "b=3\n",
    "print((a+b)*(a-b)/(a**b))"
   ]
  },
  {
   "cell_type": "code",
   "execution_count": 14,
   "id": "9d5d1e64",
   "metadata": {},
   "outputs": [
    {
     "name": "stdout",
     "output_type": "stream",
     "text": [
      "True\n"
     ]
    }
   ],
   "source": [
    "a=5\n",
    "b=2\n",
    "c=10\n",
    "print(b<a<c)"
   ]
  },
  {
   "cell_type": "code",
   "execution_count": 15,
   "id": "8dabbff6",
   "metadata": {},
   "outputs": [
    {
     "name": "stdout",
     "output_type": "stream",
     "text": [
      "3:30:01\n"
     ]
    }
   ],
   "source": [
    "seconds=12601\n",
    "\n",
    "seconds=seconds%(24*3600)\n",
    "hour=seconds//3600\n",
    "seconds%=3600\n",
    "minutes=seconds//60\n",
    "seconds%=60\n",
    "print(\"%d:%02d:%02d\"%(hour,minutes,seconds))\n",
    "\n"
   ]
  },
  {
   "cell_type": "code",
   "execution_count": 17,
   "id": "b03cc2d4",
   "metadata": {},
   "outputs": [
    {
     "name": "stdout",
     "output_type": "stream",
     "text": [
      "a: 10\n",
      "b: 5\n"
     ]
    }
   ],
   "source": [
    "a=5\n",
    "b=10\n",
    "a=a+b\n",
    "b=a-b\n",
    "a=a-b\n",
    "print(\"a:\",a)\n",
    "print(\"b:\",b)"
   ]
  },
  {
   "cell_type": "code",
   "execution_count": 20,
   "id": "7f4eb289",
   "metadata": {},
   "outputs": [
    {
     "name": "stdout",
     "output_type": "stream",
     "text": [
      "12722.79\n"
     ]
    }
   ],
   "source": [
    "p=10000\n",
    "i=3.5\n",
    "t=7\n",
    "amount=p*((1+(0.01*i))**t)\n",
    "print(round(amount,2))"
   ]
  },
  {
   "cell_type": "markdown",
   "id": "e6c449a8",
   "metadata": {},
   "source": [
    "\n",
    "\n",
    "**Exercise 11: Temperature Converter**\n",
    "Q: Take the temperature in Celsius as input and convert it to Kelvin and Fahrenheit using appropriate operators.\n",
    "A:\n",
    "\n",
    "\n",
    "**Exercise 12: Speed Calculator**\n",
    "Q: Take the distance (in kilometers) and time (in hours) as input. Calculate the speed in kilometers per hour using arithmetic operators.\n",
    "A:\n",
    "\n",
    "\n",
    "**Exercise 13: Triangle Area Calculator**\n",
    "Q: Take the base and height of a triangle as input. Calculate and print its area using arithmetic operators.\n",
    "A:\n",
    "\n",
    "\n",
    "**Exercise 14: Volume of a Sphere**\n",
    "Q: Take the radius of a sphere as input. Calculate and print its volume using arithmetic operators.\n",
    "A:\n",
    "\n",
    "**Exercise 15: Time Conversion**\n",
    "Q: Take a time duration in seconds as input. Convert and print it in the format of hours, minutes, and seconds using arithmetic operators.\n",
    "A:\n",
    "\n",
    "\n"
   ]
  },
  {
   "cell_type": "code",
   "execution_count": 22,
   "id": "5cb313d7",
   "metadata": {},
   "outputs": [
    {
     "name": "stdout",
     "output_type": "stream",
     "text": [
      "99.5\n",
      "310.65\n"
     ]
    }
   ],
   "source": [
    "celsius=37.5\n",
    "fahrenheit=celsius*1.8+32\n",
    "kelvin=celsius + 273.15\n",
    "print(fahrenheit)\n",
    "print(kelvin)"
   ]
  },
  {
   "cell_type": "code",
   "execution_count": 23,
   "id": "186c816d",
   "metadata": {},
   "outputs": [
    {
     "name": "stdout",
     "output_type": "stream",
     "text": [
      "15.0\n"
     ]
    }
   ],
   "source": [
    "distance=30\n",
    "time=2\n",
    "speed=distance/time\n",
    "print(speed)"
   ]
  },
  {
   "cell_type": "code",
   "execution_count": 25,
   "id": "e01988cf",
   "metadata": {},
   "outputs": [
    {
     "name": "stdout",
     "output_type": "stream",
     "text": [
      "400.0\n"
     ]
    }
   ],
   "source": [
    "base=20\n",
    "height=40\n",
    "area=base*height/2\n",
    "print(area)"
   ]
  },
  {
   "cell_type": "code",
   "execution_count": 26,
   "id": "d9063beb",
   "metadata": {},
   "outputs": [
    {
     "name": "stdout",
     "output_type": "stream",
     "text": [
      "905.142857142857\n"
     ]
    }
   ],
   "source": [
    "radius=6\n",
    "volume=((4/3)*(22/7)*radius**3)\n",
    "print(volume)\n"
   ]
  },
  {
   "cell_type": "code",
   "execution_count": 27,
   "id": "8f092510",
   "metadata": {},
   "outputs": [
    {
     "name": "stdout",
     "output_type": "stream",
     "text": [
      "1:45:00\n"
     ]
    }
   ],
   "source": [
    "seconds=6300\n",
    "\n",
    "seconds=seconds%(24*3600)\n",
    "hour=seconds//3600\n",
    "seconds%=3600\n",
    "minutes=seconds//60\n",
    "seconds%=60\n",
    "print(\"%d:%02d:%02d\"%(hour,minutes,seconds))\n"
   ]
  }
 ],
 "metadata": {
  "kernelspec": {
   "display_name": "Python 3 (ipykernel)",
   "language": "python",
   "name": "python3"
  },
  "language_info": {
   "codemirror_mode": {
    "name": "ipython",
    "version": 3
   },
   "file_extension": ".py",
   "mimetype": "text/x-python",
   "name": "python",
   "nbconvert_exporter": "python",
   "pygments_lexer": "ipython3",
   "version": "3.11.5"
  }
 },
 "nbformat": 4,
 "nbformat_minor": 5
}
